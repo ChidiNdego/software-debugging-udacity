{
 "cells": [
  {
   "cell_type": "code",
   "execution_count": null,
   "metadata": {},
   "outputs": [],
   "source": [
    "# Write a function to extract the words from an html tag"
   ]
  },
  {
   "cell_type": "code",
   "execution_count": 18,
   "metadata": {},
   "outputs": [],
   "source": [
    "def extract_tag(word):\n",
    "    tag = ''\n",
    "    not_tag = False\n",
    "    for i in word:\n",
    "        if i == '<':\n",
    "            non_tag = False\n",
    "        elif i == '>':\n",
    "            non_tag = True\n",
    "        elif not non_tag:\n",
    "            tag = tag + i\n",
    "    return tag\n",
    "\n",
    "\n",
    "\n",
    "def extract_nontag(word):\n",
    "    tag = False\n",
    "    not_tag = ''\n",
    "    for i in word:\n",
    "        if i == '<':\n",
    "            tag = True\n",
    "        elif i == '>':\n",
    "            tag = False\n",
    "        elif not tag:\n",
    "            not_tag = not_tag + i\n",
    "    return not_tag"
   ]
  },
  {
   "cell_type": "code",
   "execution_count": 20,
   "metadata": {},
   "outputs": [
    {
     "data": {
      "text/plain": [
       "'foo'"
      ]
     },
     "execution_count": 20,
     "metadata": {},
     "output_type": "execute_result"
    }
   ],
   "source": [
    "x = '<b>foo</b>'\n",
    "\n",
    "extract_nontag(x)"
   ]
  },
  {
   "cell_type": "code",
   "execution_count": null,
   "metadata": {},
   "outputs": [],
   "source": []
  }
 ],
 "metadata": {
  "interpreter": {
   "hash": "c569cd2e17f62341e0f08a54f9a867c3c0d3a6f67454072d7de41a8b5dff8343"
  },
  "kernelspec": {
   "display_name": "Python 3.9.4 64-bit",
   "language": "python",
   "name": "python3"
  },
  "language_info": {
   "codemirror_mode": {
    "name": "ipython",
    "version": 3
   },
   "file_extension": ".py",
   "mimetype": "text/x-python",
   "name": "python",
   "nbconvert_exporter": "python",
   "pygments_lexer": "ipython3",
   "version": "3.9.4"
  },
  "orig_nbformat": 4
 },
 "nbformat": 4,
 "nbformat_minor": 2
}
